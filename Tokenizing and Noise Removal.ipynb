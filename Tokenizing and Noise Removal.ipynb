{
 "cells": [
  {
   "cell_type": "code",
   "execution_count": 1,
   "id": "0a04d83b",
   "metadata": {},
   "outputs": [],
   "source": [
    "# running the model line too many times can eat up GPU memory, need to watch out for that\n",
    "# if that happens, can use the command pkill -9 python to kill python processes\n",
    "# can also use this to see what's using up gpu: sudo fuser -v /dev/nvidia*\n",
    "\n",
    "import cleaning_layoutparser as clp\n",
    "\n"
   ]
  }
 ],
 "metadata": {
  "kernelspec": {
   "display_name": "Python [conda env:Capstone]",
   "language": "python",
   "name": "conda-env-Capstone-py"
  },
  "language_info": {
   "codemirror_mode": {
    "name": "ipython",
    "version": 3
   },
   "file_extension": ".py",
   "mimetype": "text/x-python",
   "name": "python",
   "nbconvert_exporter": "python",
   "pygments_lexer": "ipython3",
   "version": "3.8.13"
  }
 },
 "nbformat": 4,
 "nbformat_minor": 5
}
